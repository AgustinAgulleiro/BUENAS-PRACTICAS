{
 "cells": [
  {
   "cell_type": "markdown",
   "metadata": {
    "application/vnd.databricks.v1+cell": {
     "cellMetadata": {},
     "inputWidgets": {},
     "nuid": "884b6f94-452f-4561-a7ad-19bf23527809",
     "showTitle": false,
     "tableResultSettingsMap": {},
     "title": ""
    }
   },
   "source": [
    "# BUENAS PRACTICAS"
   ]
  },
  {
   "cell_type": "markdown",
   "metadata": {},
   "source": [
    "Durante mi experiencia trabajando con Apache Spark en entornos como Databricks, fui recopilando aprendizajes y buenas prácticas a partir del feedback de compañeros, líderes y también de mi propio trabajo diario.\n",
    "\n",
    "Con el tiempo, esto me permitió desarrollar mi propio notebook de buenas prácticas, que hoy utilizo como base para optimizar y estandarizar procesos.\n",
    "\n",
    "Gracias a estas mejoras, logré agilizar ejecuciones que antes tardaban más de una hora, reduciéndolas a solo 20-30 minutos, aportando eficiencia y valor al equipo."
   ]
  },
  {
   "cell_type": "markdown",
   "metadata": {
    "application/vnd.databricks.v1+cell": {
     "cellMetadata": {},
     "inputWidgets": {},
     "nuid": "685ab804-6b3d-4e12-8358-520907eec503",
     "showTitle": false,
     "tableResultSettingsMap": {},
     "title": ""
    }
   },
   "source": [
    "## FORMATO DE LECTURA"
   ]
  },
  {
   "cell_type": "code",
   "execution_count": 0,
   "metadata": {
    "application/vnd.databricks.v1+cell": {
     "cellMetadata": {},
     "inputWidgets": {},
     "nuid": "d483805a-cc16-4998-a36c-1eb1e70223fa",
     "showTitle": false,
     "tableResultSettingsMap": {},
     "title": ""
    }
   },
   "outputs": [],
   "source": [
    "try:\n",
    "    registros_c = spark.sql(f\"select * from {catalogo}.{schema_name}.{table_name} limit 1;\")\n",
    "    print(\"Carga Filtrada\")\n",
    "except:\n",
    "    registros_c = False\n",
    "    print(\"Carga Historica\")"
   ]
  },
  {
   "cell_type": "markdown",
   "metadata": {
    "application/vnd.databricks.v1+cell": {
     "cellMetadata": {},
     "inputWidgets": {},
     "nuid": "ab841a01-e98d-41dd-ae9b-6ad948ce701b",
     "showTitle": false,
     "tableResultSettingsMap": {},
     "title": ""
    }
   },
   "source": [
    "### Forma Correcta"
   ]
  },
  {
   "cell_type": "code",
   "execution_count": 0,
   "metadata": {
    "application/vnd.databricks.v1+cell": {
     "cellMetadata": {},
     "inputWidgets": {},
     "nuid": "4ce0a645-a019-45ad-8ec8-e4b19d39e394",
     "showTitle": false,
     "tableResultSettingsMap": {},
     "title": ""
    }
   },
   "outputs": [],
   "source": [
    "pais = dbutils.widgets.get(\"pais\")\n",
    "paises = [p.strip() for p in pais.split(\",\")]\n",
    "\n",
    "#filtramos el pais y las columnas\n",
    "index = index.select(\"pais\", \"fecha\", \"columna3\", \"columna4\") \\\n",
    "      .filter(\n",
    "          F.col(\"pais\").isin(paises) &\n",
    "          (~F.col(\"columna3\").rlike(\"(?i)P(R)?UEBA(S)?\"))\n",
    "      )\n",
    "\n",
    "try:\n",
    "    if registros_c.count() != 0:\n",
    "        # 1. Obtener las últimos 3 fechas por país\n",
    "        w = Window.partitionBy(\"pais\").orderBy(F.desc(\"fecha\"))\n",
    "        top3 = index.select(\"pais\", \"fecha\").distinct() \\\n",
    "            .withColumn(\"rank\", F.row_number().over(w)) \\\n",
    "            .filter(F.col(\"rank\") <= 3) \\\n",
    "            .drop(\"rank\")\n",
    "\n",
    "        # 4) Mantener solo las filas del índice que están dentro del top3 de su país\n",
    "        index = index.join(top3, on=[\"pais\", \"fecha\"], how=\"inner\")\n",
    "\n",
    "        print(\"Carga Filtrada\")\n",
    "    else:\n",
    "        raise Exception(\"Carga Historica\")\n",
    "except:\n",
    "  index = index\n",
    "  print(\"Carga Historica\")"
   ]
  },
  {
   "cell_type": "markdown",
   "metadata": {
    "application/vnd.databricks.v1+cell": {
     "cellMetadata": {},
     "inputWidgets": {},
     "nuid": "c69ed9ef-ad45-45f8-a091-e3111d8e2d66",
     "showTitle": false,
     "tableResultSettingsMap": {},
     "title": ""
    }
   },
   "source": [
    "## FORMATO DE ESCRITURA"
   ]
  },
  {
   "cell_type": "markdown",
   "metadata": {
    "application/vnd.databricks.v1+cell": {
     "cellMetadata": {},
     "inputWidgets": {},
     "nuid": "37137373-cb19-4ab6-9b5f-3635caff9c0e",
     "showTitle": false,
     "tableResultSettingsMap": {},
     "title": ""
    }
   },
   "source": [
    "### Forma Correcta"
   ]
  },
  {
   "cell_type": "code",
   "execution_count": 0,
   "metadata": {
    "application/vnd.databricks.v1+cell": {
     "cellMetadata": {},
     "inputWidgets": {},
     "nuid": "29b84073-331b-4291-95ad-8da7b3aab56b",
     "showTitle": false,
     "tableResultSettingsMap": {},
     "title": ""
    }
   },
   "outputs": [],
   "source": [
    "try:\n",
    "    if registros_c.count() != 0:\n",
    "        tuplas_df = df.select(\"pais\", \"fecha\").distinct()\n",
    "\n",
    "        rows = tuplas_df.select(\"pais\", \"fecha\").dropna().collect()\n",
    "\n",
    "        lista_de_tuplas = [((row[\"pais\"]), row[\"fecha\"]) for row in rows]\n",
    "\n",
    "        # Generamos el string final\n",
    "        cadena_in = ', '.join([str(t) for t in lista_de_tuplas])\n",
    "\n",
    "        print(f\"Cadena: {cadena_in}\")\n",
    "        replace_condition = f\"(pais, fecha) IN ({cadena_in})\"\n",
    "\n",
    "        df.write \\\n",
    "            .mode(\"overwrite\") \\\n",
    "                .option(\"replaceWhere\", replace_condition) \\\n",
    "                    .saveAsTable(f\"{catalogo}.{schema_name}.{table_name}\")\n",
    "        print(\"Se actualizo la tabla\")\n",
    "    else:\n",
    "        raise Exception(\"Carga Histórica\")\n",
    "except:\n",
    "    print(\"📦 Ejecutando carga histórica completa\")\n",
    "    df.write \\\n",
    "        .mode(\"append\") \\\n",
    "            .saveAsTable(f\"{catalogo}.{schema_name}.{table_name}\")\n",
    "    print(\"Se completo la carga historica\")"
   ]
  },
  {
   "cell_type": "markdown",
   "metadata": {
    "application/vnd.databricks.v1+cell": {
     "cellMetadata": {},
     "inputWidgets": {},
     "nuid": "342fd24a-9aa7-47e2-9054-520809c00dcd",
     "showTitle": false,
     "tableResultSettingsMap": {},
     "title": ""
    }
   },
   "source": [
    "### Forma Incorrecta "
   ]
  },
  {
   "cell_type": "markdown",
   "metadata": {
    "application/vnd.databricks.v1+cell": {
     "cellMetadata": {},
     "inputWidgets": {},
     "nuid": "9121d1d4-a33c-4d99-b82c-dbda4632d9ea",
     "showTitle": false,
     "tableResultSettingsMap": {},
     "title": ""
    }
   },
   "source": []
  }
 ],
 "metadata": {
  "application/vnd.databricks.v1+notebook": {
   "computePreferences": null,
   "dashboards": [],
   "environmentMetadata": {
    "base_environment": "",
    "environment_version": "3"
   },
   "inputWidgetPreferences": null,
   "language": "python",
   "notebookMetadata": {
    "pythonIndentUnit": 4
   },
   "notebookName": "Buenas Practicas",
   "widgets": {}
  },
  "kernelspec": {
   "display_name": "Python 3",
   "language": "python",
   "name": "python3"
  },
  "language_info": {
   "codemirror_mode": {
    "name": "ipython",
    "version": 3
   },
   "file_extension": ".py",
   "mimetype": "text/x-python",
   "name": "python",
   "nbconvert_exporter": "python",
   "pygments_lexer": "ipython3",
   "version": "3.12.4"
  }
 },
 "nbformat": 4,
 "nbformat_minor": 0
}
